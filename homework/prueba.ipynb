{
 "cells": [
  {
   "cell_type": "markdown",
   "id": "d0bafbb8",
   "metadata": {},
   "source": [
    "PREGUNTA #2"
   ]
  },
  {
   "cell_type": "code",
   "execution_count": 20,
   "id": "4afd2ae8",
   "metadata": {},
   "outputs": [],
   "source": [
    "\n",
    "    \n",
    "\"\"\"\n",
    "    Retorne la cantidad de registros por cada letra de la primera columna como\n",
    "    la lista de tuplas (letra, cantidad), ordendas alfabéticamente.\n",
    "\n",
    "    Rta/\n",
    "    [('A', 8), ('B', 7), ('C', 5), ('D', 6), ('E', 14)]\n",
    "\n",
    "\"\"\"\n",
    "registros = {}  # Inicializa un diccionario para contar registros por letra\n",
    "with open(\"../files/input/data.csv\", \"r\") as file:\n",
    "    for line in file:\n",
    "        columnas = line.strip().split(\"\\t\")  # Separa la línea en columnas\n",
    "        letra = columnas[0]  # Toma la primera columna como letra\n",
    "        if letra in registros:\n",
    "            registros[letra] += 1  # Incrementa el contador si la letra ya existe\n",
    "        else:\n",
    "            registros[letra] = 1  # Inicializa el contador si es una nueva letra\n",
    "registros_ordenados = sorted(registros.items())\n",
    "\n"
   ]
  },
  {
   "cell_type": "markdown",
   "id": "ff0a0e70",
   "metadata": {},
   "source": [
    "PREGUNTA #3"
   ]
  },
  {
   "cell_type": "code",
   "execution_count": null,
   "id": "34fec90a",
   "metadata": {},
   "outputs": [],
   "source": []
  }
 ],
 "metadata": {
  "kernelspec": {
   "display_name": ".venv",
   "language": "python",
   "name": "python3"
  },
  "language_info": {
   "codemirror_mode": {
    "name": "ipython",
    "version": 3
   },
   "file_extension": ".py",
   "mimetype": "text/x-python",
   "name": "python",
   "nbconvert_exporter": "python",
   "pygments_lexer": "ipython3",
   "version": "3.11.9"
  }
 },
 "nbformat": 4,
 "nbformat_minor": 5
}
